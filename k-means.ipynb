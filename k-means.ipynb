{
 "cells": [
  {
   "cell_type": "code",
   "outputs": [],
   "source": [
    "import tensorflow as tf\n",
    "import numpy as np\n",
    "from sklearn.model_selection import train_test_split\n"
   ],
   "metadata": {
    "collapsed": true,
    "ExecuteTime": {
     "end_time": "2024-05-09T10:56:50.821105Z",
     "start_time": "2024-05-09T10:56:50.815674Z"
    }
   },
   "id": "initial_id",
   "execution_count": 92
  },
  {
   "cell_type": "code",
   "outputs": [],
   "source": [
    "import mysql.connector as mysql\n",
    "\n",
    "class Database():\n",
    "    def __init__(self):\n",
    "        self.db = mysql.connect(\n",
    "            host=\"localhost\",\n",
    "            user=\"root\",\n",
    "            passwd=\"\",\n",
    "            database=\"isb\"\n",
    "        )\n",
    "\n",
    "    def getEkontrak(self):\n",
    "        cursor = self.db.cursor()\n",
    "\n",
    "        sql = \"SELECT kd_penyedia, kd_satker, nip_ppk FROM ekontrak LIMIT 100000\"\n",
    "        cursor.execute(sql)\n",
    "        result = cursor.fetchall()\n",
    "        cursor.close()\n",
    "\n",
    "        return result\n",
    "    \n",
    "    def getPesertaTenderByKodeTender(self, kode_tender):\n",
    "        cursor = self.db.cursor()\n",
    "\n",
    "        sql = \"SELECT * FROM peserta_tender WHERE kd_tender = %s\"\n",
    "        cursor.execute(sql, (kode_tender,))\n",
    "        result = cursor.fetchall()\n",
    "        cursor.close()\n",
    "\n",
    "        return result"
   ],
   "metadata": {
    "collapsed": false,
    "ExecuteTime": {
     "end_time": "2024-05-09T11:42:52.188352Z",
     "start_time": "2024-05-09T11:42:52.180543Z"
    }
   },
   "id": "8e1a35161cf4701a",
   "execution_count": 113
  },
  {
   "cell_type": "code",
   "outputs": [
    {
     "name": "stdout",
     "output_type": "stream",
     "text": [
      "E-kontrak data before data preprocessing: 100000\n",
      "E-kontrak data after data preprocessing: 50426\n"
     ]
    }
   ],
   "source": [
    "# Get data from database.\n",
    "DB = Database()\n",
    "ekontraks = DB.getEkontrak()\n",
    "print(\"E-kontrak data before data preprocessing: \" + str(len(ekontraks)))\n",
    "\n",
    "\n",
    "# Data preprocessing.\n",
    "# Remove null NIP data.\n",
    "for ekontrak in ekontraks:\n",
    "    if(ekontrak[2] == None):\n",
    "        ekontraks.remove(ekontrak)\n",
    "\n",
    "print(\"E-kontrak data after data preprocessing: \" + str(len(ekontraks)))"
   ],
   "metadata": {
    "collapsed": false,
    "ExecuteTime": {
     "end_time": "2024-05-09T11:47:22.347944Z",
     "start_time": "2024-05-09T11:46:27.864304Z"
    }
   },
   "id": "8d1072b587a6e175",
   "execution_count": 116
  },
  {
   "cell_type": "code",
   "outputs": [],
   "source": [
    "def kmeans():\n",
    "    print(\"k-means clustering...\")\n",
    "    # TODO: write k-means algorithm."
   ],
   "metadata": {
    "collapsed": false,
    "ExecuteTime": {
     "end_time": "2024-05-09T13:48:47.110303Z",
     "start_time": "2024-05-09T13:48:47.107372Z"
    }
   },
   "id": "a9d28a9556d67c0f",
   "execution_count": 116
  },
  {
   "cell_type": "code",
   "outputs": [],
   "source": [],
   "metadata": {
    "collapsed": false,
    "ExecuteTime": {
     "end_time": "2024-05-09T13:48:43.196937Z",
     "start_time": "2024-05-09T13:48:43.188724Z"
    }
   },
   "id": "640ce862fc43f91c",
   "execution_count": 116
  }
 ],
 "metadata": {
  "kernelspec": {
   "display_name": "Python 3",
   "language": "python",
   "name": "python3"
  },
  "language_info": {
   "codemirror_mode": {
    "name": "ipython",
    "version": 2
   },
   "file_extension": ".py",
   "mimetype": "text/x-python",
   "name": "python",
   "nbconvert_exporter": "python",
   "pygments_lexer": "ipython2",
   "version": "2.7.6"
  }
 },
 "nbformat": 4,
 "nbformat_minor": 5
}
